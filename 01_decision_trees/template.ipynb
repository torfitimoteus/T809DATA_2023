{
 "cells": [
  {
   "cell_type": "code",
   "execution_count": 18,
   "metadata": {},
   "outputs": [],
   "source": [
    "# Author: \n",
    "# Date:\n",
    "# Project: \n",
    "# Acknowledgements: \n",
    "#\n"
   ]
  },
  {
   "cell_type": "code",
   "execution_count": 10,
   "metadata": {},
   "outputs": [],
   "source": [
    "from typing import Union\n",
    "import matplotlib.pyplot as plt\n",
    "import numpy as np\n",
    "from sklearn.tree import DecisionTreeClassifier, plot_tree\n",
    "\n",
    "from tools import load_iris, split_train_test"
   ]
  },
  {
   "cell_type": "code",
   "execution_count": 19,
   "metadata": {},
   "outputs": [],
   "source": [
    "def prior(targets: np.ndarray, classes: list) -> np.ndarray:\n",
    "    '''\n",
    "    Calculate the prior probability of each class type\n",
    "    given a list of all targets and all class types\n",
    "    '''\n",
    "    n_size = len(targets)\n",
    "    if n_size == 0:\n",
    "        return 0\n",
    "    probabilities = np.zeros(len(classes))\n",
    "    for i, a_class in enumerate(classes):\n",
    "        probabilities[i] = sum(targets == a_class) / n_size\n",
    "\n",
    "    return probabilities"
   ]
  },
  {
   "cell_type": "code",
   "execution_count": 12,
   "metadata": {},
   "outputs": [],
   "source": [
    "def split_data(\n",
    "    features: np.ndarray,\n",
    "    targets: np.ndarray,\n",
    "    split_feature_index: int,\n",
    "    theta: float\n",
    ") -> Union[tuple, tuple]:\n",
    "    '''\n",
    "    Split a dataset and targets into two seperate datasets\n",
    "    where data with split_feature < theta goes to 1 otherwise 2\n",
    "    '''\n",
    "    ft = features[:, split_feature_index] < theta\n",
    "    \n",
    "    features_1 = features[ft]\n",
    "    targets_1 = targets[ft]\n",
    "\n",
    "    features_2 = features[~ft]\n",
    "    targets_2 = targets[~ft]\n",
    "\n",
    "    return (features_1, targets_1), (features_2, targets_2)\n"
   ]
  },
  {
   "cell_type": "code",
   "execution_count": 13,
   "metadata": {},
   "outputs": [],
   "source": [
    "def gini_impurity(targets: np.ndarray, classes: list) -> float:\n",
    "    '''\n",
    "    Calculate:\n",
    "        i(S_k) = 1/2 * (1 - sum_i P{C_i}**2)\n",
    "    '''\n",
    "    i = (1/2) * (1 - np.sum(np.power((prior(targets, classes)),2)))\n",
    "    return i"
   ]
  },
  {
   "cell_type": "code",
   "execution_count": 14,
   "metadata": {},
   "outputs": [],
   "source": [
    "def weighted_impurity(\n",
    "    t1: np.ndarray,\n",
    "    t2: np.ndarray,\n",
    "    classes: list\n",
    ") -> float:\n",
    "    '''\n",
    "    Given targets of two branches, return the weighted\n",
    "    sum of gini branch impurities\n",
    "    '''\n",
    "    g1 = gini_impurity(t1, classes)\n",
    "    g2 = gini_impurity(t2, classes)\n",
    "    n1 = t1.shape[0]\n",
    "    n2 = t2.shape[0]\n",
    "\n",
    "    return (n1*g1 + n2*g2) / (n1 + n2)"
   ]
  },
  {
   "cell_type": "code",
   "execution_count": 15,
   "metadata": {},
   "outputs": [],
   "source": [
    "def total_gini_impurity(\n",
    "    features: np.ndarray,\n",
    "    targets: np.ndarray,\n",
    "    classes: list,\n",
    "    split_feature_index: int,\n",
    "    theta: float\n",
    ") -> float:\n",
    "    '''\n",
    "    Calculate the gini impurity for a split on split_feature_index\n",
    "    for a given dataset of features and targets.\n",
    "    '''\n",
    "    (, t1), (, t2) = split_data(features, targets, split_feature_index, theta)\n",
    "    return weighted_impurity(t1, t2, classes)"
   ]
  },
  {
   "cell_type": "code",
   "execution_count": 16,
   "metadata": {},
   "outputs": [],
   "source": [
    "def brute_best_split(\n",
    "    features: np.ndarray,\n",
    "    targets: np.ndarray,\n",
    "    classes: list,\n",
    "    num_tries: int\n",
    ") -> Union[float, int, float]:\n",
    "    '''\n",
    "    Find the best split for the given data. Test splitting\n",
    "    on each feature dimension num_tries times.\n",
    "\n",
    "    Return the lowest gini impurity, the feature dimension and\n",
    "    the threshold\n",
    "    '''\n",
    "    best_gini, best_dim, best_theta = float(\"inf\"), None, None\n",
    "    # iterate feature dimensions\n",
    "    for i in range(features.shape[1]):\n",
    "        # create the thresholds\n",
    "        row = features[:,i]\n",
    "        thetas = np.linspace(np.min(row), np.max(row), num_tries+2)[1:-1]\n",
    "        # iterate thresholds\n",
    "        for theta in thetas:\n",
    "            gini = total_gini_impurity(features, targets, classes, i, theta)\n",
    "            if gini < best_gini:\n",
    "                best_gini = gini\n",
    "                best_dim = i\n",
    "                best_theta = theta\n",
    "            \n",
    "    return best_gini, best_dim, best_theta\n"
   ]
  },
  {
   "cell_type": "code",
   "execution_count": 21,
   "metadata": {},
   "outputs": [
    {
     "ename": "IndentationError",
     "evalue": "unexpected indent (1908596807.py, line 18)",
     "output_type": "error",
     "traceback": [
      "\u001b[1;36m  Cell \u001b[1;32mIn[21], line 18\u001b[1;36m\u001b[0m\n\u001b[1;33m    split_train_test(features, targets, train_ratio)\u001b[0m\n\u001b[1;37m    ^\u001b[0m\n\u001b[1;31mIndentationError\u001b[0m\u001b[1;31m:\u001b[0m unexpected indent\n"
     ]
    }
   ],
   "source": [
    "class IrisTreeTrainer:\n",
    "    def __init__(\n",
    "        self,\n",
    "        features: np.ndarray,\n",
    "        targets: np.ndarray,\n",
    "        classes: list = [0, 1, 2],\n",
    "        train_ratio: float = 0.8\n",
    "    ):\n",
    "        '''\n",
    "        train_ratio: The ratio of the Iris dataset that will\n",
    "        be dedicated to training.\n",
    "        '''\n",
    "        self.features = features\n",
    "        self.targets = targets\n",
    "\n",
    "        (self.train_features, self.train_targets),\\\n",
    "            (self.test_features, self.test_targets) \n",
    "            split_train_test(features, targets, train_ratio)\n",
    "        \n",
    "        self.classes = classes\n",
    "        self.tree = DecisionTreeClassifier()\n",
    "\n",
    "    def train(self):\n",
    "        self.tree.fit(self.train_features, self.train_targets)\n",
    "\n",
    "    def accuracy(self):\n",
    "        return self.tree.score(self.test_features, self.test_targets)\n",
    "\n",
    "    def plot(self):\n",
    "        plot_tree(self.tree)\n",
    "        plt.show()\n",
    "\n",
    "    def guess(self):\n",
    "        return self.tree.predict(self.test_features)\n",
    "\n",
    "    def confusion_matrix(self):\n",
    "        self._confusion_matrix = np.zeros((len(self.classes), len(self.classes)))\n",
    "        guesses = self.guess()\n",
    "        for i in range(len(guesses)):\n",
    "            true_value = self.test_targets[i]\n",
    "            guess_value = guesses[i]\n",
    "            self._confusion_matrix[true_value, guess_value] += 1\n",
    "        return self._confusion_matrix\n",
    "\n",
    "    def plot_progress(self, start=0.01, end=0.99, count=99):\n",
    "        ratios = np.linspace(start, end, count)\n",
    "        scores = np.zeros(count)\n",
    "\n",
    "        for i, ratio in enumerate(ratios):\n",
    "            temp_tree = IrisTreeTrainer(self.features, self.targets, classes=self.classes, train_ratio=ratio)\n",
    "            temp_tree.train()\n",
    "            scores[i] = temp_tree.accuracy()\n",
    "\n",
    "        plt.plot(scores)\n"
   ]
  },
  {
   "cell_type": "code",
   "execution_count": null,
   "metadata": {},
   "outputs": [],
   "source": []
  }
 ],
 "metadata": {
  "kernelspec": {
   "display_name": "Python 3",
   "language": "python",
   "name": "python3"
  },
  "language_info": {
   "codemirror_mode": {
    "name": "ipython",
    "version": 3
   },
   "file_extension": ".py",
   "mimetype": "text/x-python",
   "name": "python",
   "nbconvert_exporter": "python",
   "pygments_lexer": "ipython3",
   "version": "3.11.5"
  },
  "orig_nbformat": 4
 },
 "nbformat": 4,
 "nbformat_minor": 2
}
